{
 "cells": [
  {
   "cell_type": "code",
   "execution_count": 1,
   "id": "8ea3d6ad",
   "metadata": {},
   "outputs": [
    {
     "name": "stdout",
     "output_type": "stream",
     "text": [
      "C:\\Users\\Michael Wu\\1-2ndJunior\\Research\\Chu Ma Research\\2-D\\img2bin\\Mnist_32_32_4.0\n"
     ]
    }
   ],
   "source": [
    "import pandas as pd\n",
    "import numpy as np\n",
    "import os\n",
    "import matplotlib.image as img\n",
    "##get file name\n",
    "cwd = os.getcwd()\n",
    "print(cwd)\n",
    "filename = os.path.split(os.path.split(cwd)[1])[1]\n",
    "filename\n",
    "os.listdir(cwd)\n",
    "root = cwd"
   ]
  },
  {
   "cell_type": "code",
   "execution_count": 2,
   "id": "af6a4906",
   "metadata": {},
   "outputs": [],
   "source": [
    "size_name = 'size_0.03m_inter_0.125λ_dis_0.15m_feq_200000hz_water'"
   ]
  },
  {
   "cell_type": "code",
   "execution_count": 3,
   "id": "a43054c0",
   "metadata": {},
   "outputs": [
    {
     "name": "stdout",
     "output_type": "stream",
     "text": [
      "size_0.03m_inter_0.125λ_dis_0.15m_feq_200000hz_water\n",
      "['size_0.03m_inter_0.125λ_dis_0.15m_feq_200000hz_water']\n"
     ]
    }
   ],
   "source": [
    "list_file = []\n",
    "for file in os.listdir(cwd):\n",
    "    if size_name in file :\n",
    "        list_file.append(file)\n",
    "        print(file)\n",
    "file_list = list_file\n",
    "print(file_list)"
   ]
  },
  {
   "cell_type": "code",
   "execution_count": 4,
   "id": "7f976734",
   "metadata": {},
   "outputs": [
    {
     "name": "stdout",
     "output_type": "stream",
     "text": [
      "C:\\Users\\Michael Wu\\1-2ndJunior\\Research\\Chu Ma Research\\2-D\\img2bin\\Mnist_32_32_4.0\\size_0.03m_inter_0.125λ_dis_0.15m_feq_200000hz_water\n"
     ]
    }
   ],
   "source": [
    "path_parent = os.path.join(root,file_list[0])\n",
    "print(path_parent)"
   ]
  },
  {
   "cell_type": "code",
   "execution_count": 5,
   "id": "3546f8ef",
   "metadata": {},
   "outputs": [
    {
     "name": "stdout",
     "output_type": "stream",
     "text": [
      "C:\\Users\\Michael Wu\\1-2ndJunior\\Research\\Chu Ma Research\\2-D\\img2bin\\Mnist_32_32_4.0\\size_0.03m_inter_0.125λ_dis_0.15m_feq_200000hz_water\n",
      "['0', '1', '2', '3', '4', '5', '6', '7', '8', '9']\n",
      "C:\\Users\\Michael Wu\\1-2ndJunior\\Research\\Chu Ma Research\\2-D\\img2bin\\Mnist_32_32_4.0\\size_0.03m_inter_0.125λ_dis_0.15m_feq_200000hz_water\\0\\test_0\n",
      "C:\\Users\\Michael Wu\\1-2ndJunior\\Research\\Chu Ma Research\\2-D\\img2bin\\Mnist_32_32_4.0\\size_0.03m_inter_0.125λ_dis_0.15m_feq_200000hz_water\\0\\train_0\n"
     ]
    }
   ],
   "source": [
    "path_parent = os.path.join(root,file_list[0])\n",
    "print(path_parent)\n",
    "one_nine = os.listdir(path_parent)\n",
    "print(one_nine)\n",
    "path_one_nine_test_list = []\n",
    "path_one_nine_train_list = []\n",
    "for i in one_nine:\n",
    "    path_num = os.path.join(path_parent,i)\n",
    "   # print(path_num)\n",
    "    path_num_test = os.path.join(path_num,os.listdir(path_num)[0]) \n",
    "    path_num_train = os.path.join(path_num,os.listdir(path_num)[1])\n",
    "#     print(path_num_test)\n",
    "#     print(path_num_train)\n",
    "   \n",
    "    path_one_nine_test_list.append(path_num_test)\n",
    "    path_one_nine_train_list.append(path_num_train)\n",
    "print(path_one_nine_test_list[0])\n",
    "print(path_one_nine_train_list[0])"
   ]
  },
  {
   "cell_type": "code",
   "execution_count": null,
   "id": "75b2e21e",
   "metadata": {},
   "outputs": [],
   "source": []
  },
  {
   "cell_type": "code",
   "execution_count": 6,
   "id": "ad07fd8d",
   "metadata": {},
   "outputs": [],
   "source": [
    "## TEST INPUTS\n",
    "test_inputs = []\n",
    "for i in path_one_nine_test_list:\n",
    "    files = sorted(os.listdir(i))\n",
    "    for e in files:\n",
    "        image_name = os.path.join(i,e)\n",
    "        image = img.imread(image_name)\n",
    "        test_inputs.append(image)\n",
    "test_inputs = np.array(test_inputs)\n",
    "test_inputs_np = np.reshape(np.array(test_inputs),(5000,32,32))\n",
    "np.save(size_name+'_Test_inputs',test_inputs_np)"
   ]
  },
  {
   "cell_type": "code",
   "execution_count": 7,
   "id": "9489f03a",
   "metadata": {},
   "outputs": [
    {
     "data": {
      "text/plain": [
       "<matplotlib.image.AxesImage at 0x2323e07b0a0>"
      ]
     },
     "execution_count": 7,
     "metadata": {},
     "output_type": "execute_result"
    },
    {
     "data": {
      "image/png": "[encoded data removed]",
      "text/plain": [
       "<Figure size 432x288 with 1 Axes>"
      ]
     },
     "metadata": {
      "needs_background": "light"
     },
     "output_type": "display_data"
    }
   ],
   "source": [
    "import matplotlib.pyplot as plt\n",
    "plt.imshow(test_inputs_np[0])"
   ]
  },
  {
   "cell_type": "code",
   "execution_count": 8,
   "id": "a785f1b4",
   "metadata": {},
   "outputs": [
    {
     "name": "stdout",
     "output_type": "stream",
     "text": [
      "1_102.png\n"
     ]
    }
   ],
   "source": [
    "train_inputs = []\n",
    "count=0\n",
    "for i in path_one_nine_train_list:\n",
    "    files = sorted(os.listdir(i))\n",
    "    for e in files:\n",
    "        \n",
    "        if(count==505):\n",
    "            print(e)\n",
    "        image_name = os.path.join(i,e)\n",
    "        image = img.imread(image_name)\n",
    "        train_inputs.append(image)\n",
    "        count+=1\n",
    "train_inputs = np.array(train_inputs)\n",
    "train_inputs_np = np.reshape(np.array(train_inputs),(5000,32,32))\n",
    "np.save(size_name+'_Train_inputs',train_inputs_np)"
   ]
  },
  {
   "cell_type": "markdown",
   "id": "1423426e",
   "metadata": {},
   "source": [
    "## npy to pkl"
   ]
  },
  {
   "cell_type": "code",
   "execution_count": 9,
   "id": "6f9252f6",
   "metadata": {},
   "outputs": [],
   "source": [
    "import numpy as np\n",
    "TRAIN_inputs = np.load(size_name+\"_Train_inputs.npy\")\n",
    "TRAIN_targets = np.load(\"Train_labels.npy\")\n",
    "TRAIN_data_dict = {\n",
    "    \"inputs\":TRAIN_inputs,\n",
    "    \"targets\":TRAIN_targets,\n",
    "    \"classes\":None\n",
    "}"
   ]
  },
  {
   "cell_type": "code",
   "execution_count": 10,
   "id": "ee33f0a8",
   "metadata": {},
   "outputs": [],
   "source": [
    "TEST_inputs = np.load(size_name+\"_Test_inputs.npy\")\n",
    "TEST_targets = np.load(\"Test_labels.npy\")\n",
    "TEST_data_dict = {\n",
    "    \"inputs\":TEST_inputs,\n",
    "    \"targets\":TEST_targets,\n",
    "    \"classes\":None\n",
    "}\n",
    "import pickle\n",
    "TEST_output = open('test_data.pkl', 'wb')\n",
    "pickle.dump(TEST_data_dict, TEST_output)\n",
    "TEST_output.close()\n",
    "TRAIN_output = open('train_data.pkl', 'wb')\n",
    "pickle.dump(TRAIN_data_dict, TRAIN_output)\n",
    "TRAIN_output.close()"
   ]
  },
  {
   "cell_type": "code",
   "execution_count": null,
   "id": "6fc1c2f8",
   "metadata": {},
   "outputs": [],
   "source": []
  }
 ],
 "metadata": {
  "kernelspec": {
   "display_name": "Python 3 (ipykernel)",
   "language": "python",
   "name": "python3"
  },
  "language_info": {
   "codemirror_mode": {
    "name": "ipython",
    "version": 3
   },
   "file_extension": ".py",
   "mimetype": "text/x-python",
   "name": "python",
   "nbconvert_exporter": "python",
   "pygments_lexer": "ipython3",
   "version": "3.9.7"
  }
 },
 "nbformat": 4,
 "nbformat_minor": 5
}
